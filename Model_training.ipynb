{
 "cells": [
  {
   "cell_type": "code",
   "execution_count": 3,
   "id": "3d2fdb8e-ed09-4743-9d11-79c647e8e780",
   "metadata": {},
   "outputs": [
    {
     "name": "stderr",
     "output_type": "stream",
     "text": [
      "IOPub data rate exceeded.\n",
      "The Jupyter server will temporarily stop sending output\n",
      "to the client in order to avoid crashing it.\n",
      "To change this limit, set the config variable\n",
      "`--ServerApp.iopub_data_rate_limit`.\n",
      "\n",
      "Current values:\n",
      "ServerApp.iopub_data_rate_limit=1000000.0 (bytes/sec)\n",
      "ServerApp.rate_limit_window=3.0 (secs)\n",
      "\n"
     ]
    },
    {
     "data": {
      "text/html": [
       "<div>\n",
       "<style scoped>\n",
       "    .dataframe tbody tr th:only-of-type {\n",
       "        vertical-align: middle;\n",
       "    }\n",
       "\n",
       "    .dataframe tbody tr th {\n",
       "        vertical-align: top;\n",
       "    }\n",
       "\n",
       "    .dataframe thead th {\n",
       "        text-align: right;\n",
       "    }\n",
       "</style>\n",
       "<table border=\"1\" class=\"dataframe\">\n",
       "  <thead>\n",
       "    <tr style=\"text-align: right;\">\n",
       "      <th></th>\n",
       "      <th>text</th>\n",
       "      <th>label</th>\n",
       "    </tr>\n",
       "  </thead>\n",
       "  <tbody>\n",
       "    <tr>\n",
       "      <th>0</th>\n",
       "      <td>oh my gosh</td>\n",
       "      <td>1</td>\n",
       "    </tr>\n",
       "    <tr>\n",
       "      <th>1</th>\n",
       "      <td>trouble sleeping, confused mind, restless hear...</td>\n",
       "      <td>1</td>\n",
       "    </tr>\n",
       "    <tr>\n",
       "      <th>2</th>\n",
       "      <td>All wrong, back off dear, forward doubt. Stay ...</td>\n",
       "      <td>1</td>\n",
       "    </tr>\n",
       "    <tr>\n",
       "      <th>3</th>\n",
       "      <td>I've shifted my focus to something else but I'...</td>\n",
       "      <td>1</td>\n",
       "    </tr>\n",
       "    <tr>\n",
       "      <th>4</th>\n",
       "      <td>I'm restless and restless, it's been a month n...</td>\n",
       "      <td>1</td>\n",
       "    </tr>\n",
       "    <tr>\n",
       "      <th>...</th>\n",
       "      <td>...</td>\n",
       "      <td>...</td>\n",
       "    </tr>\n",
       "    <tr>\n",
       "      <th>3319</th>\n",
       "      <td>Want a syringe</td>\n",
       "      <td>0</td>\n",
       "    </tr>\n",
       "    <tr>\n",
       "      <th>3320</th>\n",
       "      <td>please continue to sleep again</td>\n",
       "      <td>0</td>\n",
       "    </tr>\n",
       "    <tr>\n",
       "      <th>3321</th>\n",
       "      <td>I said these betoi2. If I'm the education mini...</td>\n",
       "      <td>0</td>\n",
       "    </tr>\n",
       "    <tr>\n",
       "      <th>3322</th>\n",
       "      <td>Aurel announced that her pregnancy was endorse...</td>\n",
       "      <td>0</td>\n",
       "    </tr>\n",
       "    <tr>\n",
       "      <th>3323</th>\n",
       "      <td>Nausea</td>\n",
       "      <td>0</td>\n",
       "    </tr>\n",
       "  </tbody>\n",
       "</table>\n",
       "<p>3324 rows × 2 columns</p>\n",
       "</div>"
      ],
      "text/plain": [
       "                                                   text  label\n",
       "0                                            oh my gosh      1\n",
       "1     trouble sleeping, confused mind, restless hear...      1\n",
       "2     All wrong, back off dear, forward doubt. Stay ...      1\n",
       "3     I've shifted my focus to something else but I'...      1\n",
       "4     I'm restless and restless, it's been a month n...      1\n",
       "...                                                 ...    ...\n",
       "3319                                     Want a syringe      0\n",
       "3320                     please continue to sleep again      0\n",
       "3321  I said these betoi2. If I'm the education mini...      0\n",
       "3322  Aurel announced that her pregnancy was endorse...      0\n",
       "3323                                             Nausea      0\n",
       "\n",
       "[3324 rows x 2 columns]"
      ]
     },
     "execution_count": 3,
     "metadata": {},
     "output_type": "execute_result"
    }
   ],
   "source": [
    "import numpy as np\n",
    "import pandas as pd\n",
    "df1=pd.read_csv('Datasets/Combined Data.csv',index_col=0)\n",
    "df1.rename(columns={'statement':'text'},inplace=True)\n",
    "df1.insert(2,'label',0,True)\n",
    "for i in range(0,len(df1['status'])):\n",
    "    if(df1['status'][i] != 'Normal'):\n",
    "        df1['label'][i]=1\n",
    "df1.drop(['status'],axis=1,inplace=True)\n",
    "df1.head(3324)"
   ]
  },
  {
   "cell_type": "code",
   "execution_count": 3,
   "id": "7c426d1a-15fd-461e-b7b4-4ec697bacf54",
   "metadata": {},
   "outputs": [
    {
     "data": {
      "text/html": [
       "<div>\n",
       "<style scoped>\n",
       "    .dataframe tbody tr th:only-of-type {\n",
       "        vertical-align: middle;\n",
       "    }\n",
       "\n",
       "    .dataframe tbody tr th {\n",
       "        vertical-align: top;\n",
       "    }\n",
       "\n",
       "    .dataframe thead th {\n",
       "        text-align: right;\n",
       "    }\n",
       "</style>\n",
       "<table border=\"1\" class=\"dataframe\">\n",
       "  <thead>\n",
       "    <tr style=\"text-align: right;\">\n",
       "      <th></th>\n",
       "      <th>text</th>\n",
       "      <th>label</th>\n",
       "    </tr>\n",
       "  </thead>\n",
       "  <tbody>\n",
       "    <tr>\n",
       "      <th>0</th>\n",
       "      <td>Open discussion. Between the Transfer Portal a...</td>\n",
       "      <td>1</td>\n",
       "    </tr>\n",
       "    <tr>\n",
       "      <th>1</th>\n",
       "      <td>Plenty of things are changing in my life and t...</td>\n",
       "      <td>1</td>\n",
       "    </tr>\n",
       "    <tr>\n",
       "      <th>2</th>\n",
       "      <td>I feel a little hopeless. Anyone else? #hopele...</td>\n",
       "      <td>1</td>\n",
       "    </tr>\n",
       "    <tr>\n",
       "      <th>3</th>\n",
       "      <td>Which is more healthy? Hope, or hopelessness? ...</td>\n",
       "      <td>1</td>\n",
       "    </tr>\n",
       "    <tr>\n",
       "      <th>4</th>\n",
       "      <td>So someone tell me how do I get over #HOPELESS...</td>\n",
       "      <td>1</td>\n",
       "    </tr>\n",
       "  </tbody>\n",
       "</table>\n",
       "</div>"
      ],
      "text/plain": [
       "                                                text  label\n",
       "0  Open discussion. Between the Transfer Portal a...      1\n",
       "1  Plenty of things are changing in my life and t...      1\n",
       "2  I feel a little hopeless. Anyone else? #hopele...      1\n",
       "3  Which is more healthy? Hope, or hopelessness? ...      1\n",
       "4  So someone tell me how do I get over #HOPELESS...      1"
      ]
     },
     "execution_count": 3,
     "metadata": {},
     "output_type": "execute_result"
    }
   ],
   "source": [
    "df2=pd.read_csv('Datasets/depression_detection.csv')\n",
    "df2.head()\n"
   ]
  },
  {
   "cell_type": "code",
   "execution_count": 5,
   "id": "535a349c-ce7b-43a2-9e9a-83da79ccb81f",
   "metadata": {},
   "outputs": [
    {
     "data": {
      "text/html": [
       "<div>\n",
       "<style scoped>\n",
       "    .dataframe tbody tr th:only-of-type {\n",
       "        vertical-align: middle;\n",
       "    }\n",
       "\n",
       "    .dataframe tbody tr th {\n",
       "        vertical-align: top;\n",
       "    }\n",
       "\n",
       "    .dataframe thead th {\n",
       "        text-align: right;\n",
       "    }\n",
       "</style>\n",
       "<table border=\"1\" class=\"dataframe\">\n",
       "  <thead>\n",
       "    <tr style=\"text-align: right;\">\n",
       "      <th></th>\n",
       "      <th>text</th>\n",
       "      <th>label</th>\n",
       "    </tr>\n",
       "  </thead>\n",
       "  <tbody>\n",
       "    <tr>\n",
       "      <th>27972</th>\n",
       "      <td>posting everyday people stop caring  religion ...</td>\n",
       "      <td>0</td>\n",
       "    </tr>\n",
       "    <tr>\n",
       "      <th>27973</th>\n",
       "      <td>okay definetly need hear guys opinion ive pret...</td>\n",
       "      <td>0</td>\n",
       "    </tr>\n",
       "    <tr>\n",
       "      <th>27974</th>\n",
       "      <td>cant get dog think ill kill myselfthe last thi...</td>\n",
       "      <td>1</td>\n",
       "    </tr>\n",
       "    <tr>\n",
       "      <th>27975</th>\n",
       "      <td>whats point princess bridei really think like ...</td>\n",
       "      <td>1</td>\n",
       "    </tr>\n",
       "    <tr>\n",
       "      <th>27976</th>\n",
       "      <td>got nudes person might might know snapchat do ...</td>\n",
       "      <td>0</td>\n",
       "    </tr>\n",
       "  </tbody>\n",
       "</table>\n",
       "</div>"
      ],
      "text/plain": [
       "                                                    text  label\n",
       "27972  posting everyday people stop caring  religion ...      0\n",
       "27973  okay definetly need hear guys opinion ive pret...      0\n",
       "27974  cant get dog think ill kill myselfthe last thi...      1\n",
       "27975  whats point princess bridei really think like ...      1\n",
       "27976  got nudes person might might know snapchat do ...      0"
      ]
     },
     "execution_count": 5,
     "metadata": {},
     "output_type": "execute_result"
    }
   ],
   "source": [
    "df3=pd.read_csv('Datasets/mental_health.csv')\n",
    "df3.tail()\n"
   ]
  },
  {
   "cell_type": "code",
   "execution_count": 7,
   "id": "48d43310-7a13-4e10-8a86-efea0d00eb46",
   "metadata": {},
   "outputs": [
    {
     "data": {
      "text/html": [
       "<div>\n",
       "<style scoped>\n",
       "    .dataframe tbody tr th:only-of-type {\n",
       "        vertical-align: middle;\n",
       "    }\n",
       "\n",
       "    .dataframe tbody tr th {\n",
       "        vertical-align: top;\n",
       "    }\n",
       "\n",
       "    .dataframe thead th {\n",
       "        text-align: right;\n",
       "    }\n",
       "</style>\n",
       "<table border=\"1\" class=\"dataframe\">\n",
       "  <thead>\n",
       "    <tr style=\"text-align: right;\">\n",
       "      <th></th>\n",
       "      <th>text</th>\n",
       "      <th>label</th>\n",
       "    </tr>\n",
       "  </thead>\n",
       "  <tbody>\n",
       "    <tr>\n",
       "      <th>0</th>\n",
       "      <td>I love him</td>\n",
       "      <td>0</td>\n",
       "    </tr>\n",
       "    <tr>\n",
       "      <th>1</th>\n",
       "      <td>I got accepted into a Graduate program I wante...</td>\n",
       "      <td>0</td>\n",
       "    </tr>\n",
       "    <tr>\n",
       "      <th>2</th>\n",
       "      <td>our film production professor gave us our midt...</td>\n",
       "      <td>0</td>\n",
       "    </tr>\n",
       "    <tr>\n",
       "      <th>3</th>\n",
       "      <td>Just got done speaking with the inspector for ...</td>\n",
       "      <td>0</td>\n",
       "    </tr>\n",
       "    <tr>\n",
       "      <th>4</th>\n",
       "      <td>so i'm nonbinary and despite knowing that most...</td>\n",
       "      <td>0</td>\n",
       "    </tr>\n",
       "  </tbody>\n",
       "</table>\n",
       "</div>"
      ],
      "text/plain": [
       "                                                text  label\n",
       "0                                         I love him      0\n",
       "1  I got accepted into a Graduate program I wante...      0\n",
       "2  our film production professor gave us our midt...      0\n",
       "3  Just got done speaking with the inspector for ...      0\n",
       "4  so i'm nonbinary and despite knowing that most...      0"
      ]
     },
     "execution_count": 7,
     "metadata": {},
     "output_type": "execute_result"
    }
   ],
   "source": [
    "df4=pd.read_csv('Datasets/IPD_Reddit_Dataset.csv')\n",
    "df4.rename(columns={'depression':'label'},inplace=True)\n",
    "df4.head()\n"
   ]
  },
  {
   "cell_type": "code",
   "execution_count": 9,
   "id": "56862f68-c906-4d20-8d3c-fe22552084c0",
   "metadata": {},
   "outputs": [
    {
     "name": "stderr",
     "output_type": "stream",
     "text": [
      "IOPub data rate exceeded.\n",
      "The Jupyter server will temporarily stop sending output\n",
      "to the client in order to avoid crashing it.\n",
      "To change this limit, set the config variable\n",
      "`--ServerApp.iopub_data_rate_limit`.\n",
      "\n",
      "Current values:\n",
      "ServerApp.iopub_data_rate_limit=1000000.0 (bytes/sec)\n",
      "ServerApp.rate_limit_window=3.0 (secs)\n",
      "\n"
     ]
    },
    {
     "data": {
      "text/html": [
       "<div>\n",
       "<style scoped>\n",
       "    .dataframe tbody tr th:only-of-type {\n",
       "        vertical-align: middle;\n",
       "    }\n",
       "\n",
       "    .dataframe tbody tr th {\n",
       "        vertical-align: top;\n",
       "    }\n",
       "\n",
       "    .dataframe thead th {\n",
       "        text-align: right;\n",
       "    }\n",
       "</style>\n",
       "<table border=\"1\" class=\"dataframe\">\n",
       "  <thead>\n",
       "    <tr style=\"text-align: right;\">\n",
       "      <th></th>\n",
       "      <th>text</th>\n",
       "      <th>label</th>\n",
       "    </tr>\n",
       "  </thead>\n",
       "  <tbody>\n",
       "    <tr>\n",
       "      <th>0</th>\n",
       "      <td>Ex Wife Threatening SuicideRecently I left my ...</td>\n",
       "      <td>1</td>\n",
       "    </tr>\n",
       "    <tr>\n",
       "      <th>1</th>\n",
       "      <td>Am I weird I don't get affected by compliments...</td>\n",
       "      <td>0</td>\n",
       "    </tr>\n",
       "    <tr>\n",
       "      <th>2</th>\n",
       "      <td>Finally 2020 is almost over... So I can never ...</td>\n",
       "      <td>0</td>\n",
       "    </tr>\n",
       "    <tr>\n",
       "      <th>3</th>\n",
       "      <td>i need helpjust help me im crying so hard</td>\n",
       "      <td>1</td>\n",
       "    </tr>\n",
       "    <tr>\n",
       "      <th>4</th>\n",
       "      <td>I’m so lostHello, my name is Adam (16) and I’v...</td>\n",
       "      <td>1</td>\n",
       "    </tr>\n",
       "  </tbody>\n",
       "</table>\n",
       "</div>"
      ],
      "text/plain": [
       "                                                text  label\n",
       "0  Ex Wife Threatening SuicideRecently I left my ...      1\n",
       "1  Am I weird I don't get affected by compliments...      0\n",
       "2  Finally 2020 is almost over... So I can never ...      0\n",
       "3          i need helpjust help me im crying so hard      1\n",
       "4  I’m so lostHello, my name is Adam (16) and I’v...      1"
      ]
     },
     "execution_count": 9,
     "metadata": {},
     "output_type": "execute_result"
    }
   ],
   "source": [
    "df5=pd.read_csv('Datasets/Suicide_Detection.csv')\n",
    "df5.insert(2,'label',0,True)\n",
    "for i in range(0,len(df5['class'])):\n",
    "    if(df5['class'][i] == 'suicide'):\n",
    "        df5['label'][i]=1\n",
    "df5 = df5.drop(columns=[\"Unnamed: 0\"])\n",
    "\n",
    "df5.drop(['class'],axis=1,inplace=True)\n",
    "df5.head()"
   ]
  },
  {
   "cell_type": "code",
   "execution_count": 10,
   "id": "505ad516-da9c-4731-ac3d-57ffe474a399",
   "metadata": {},
   "outputs": [],
   "source": [
    "df=pd.concat([df1,df2,df3,df4,df5],axis=0)\n",
    "df.head()\n",
    "x=df['text']\n",
    "y=df['label']"
   ]
  },
  {
   "cell_type": "code",
   "execution_count": 13,
   "id": "239ed324-c656-4319-a20c-d75dd1cabd7a",
   "metadata": {},
   "outputs": [
    {
     "name": "stdout",
     "output_type": "stream",
     "text": [
      "(285579,)\n",
      "(71395,)\n",
      "(285579,)\n",
      "(71395,)\n"
     ]
    }
   ],
   "source": [
    "from sklearn.model_selection import train_test_split\n",
    "x_train,x_test,y_train,y_test=train_test_split(x,y,test_size=.20)\n",
    "print(x_train.shape)\n",
    "print(x_test.shape)\n",
    "print(y_train.shape)\n",
    "print(y_test.shape)\n",
    "x_train=x_train.astype(str)\n",
    "x_test=x_test.astype(str)"
   ]
  },
  {
   "cell_type": "code",
   "execution_count": 15,
   "id": "78bcd6e9-5a35-436f-bdbf-d16d93800e35",
   "metadata": {},
   "outputs": [],
   "source": [
    "import numpy as np\n",
    "import tensorflow\n",
    "from tensorflow.keras.preprocessing.text import one_hot, Tokenizer\n",
    "from tensorflow.keras.preprocessing.sequence import pad_sequences\n",
    "import pickle"
   ]
  },
  {
   "cell_type": "code",
   "execution_count": 17,
   "id": "b3511c92-3a61-4d5e-bf45-124f36ccd0c1",
   "metadata": {},
   "outputs": [],
   "source": [
    "#Tokenizing\n",
    "tokenizer=Tokenizer(lower=True)\n",
    "tokenizer.fit_on_texts(x_train)\n",
    "x_train=tokenizer.texts_to_sequences(x_train)\n",
    "max_len=100  #max_len represents the length of each row in padded sequence\n",
    "x_train=pad_sequences(x_train,maxlen=max_len,padding='post')\n",
    "x_test=tokenizer.texts_to_sequences(x_test)\n",
    "x_test=pad_sequences(x_test,maxlen=max_len,padding='post')\n",
    "vocab_size=len(tokenizer.word_index)+1 #Represents the number of words in the texts.\n",
    "with open('tokenizer.pkl', 'wb') as file:\n",
    "    pickle.dump(tokenizer, file)"
   ]
  },
  {
   "cell_type": "code",
   "execution_count": 19,
   "id": "a64f1e60-fc5d-4ee6-b1bd-a9c49d9540b0",
   "metadata": {},
   "outputs": [],
   "source": [
    "import numpy as np\n",
    "from numpy import asarray\n",
    "from numpy import zeros\n",
    "embeddings_dictionary=dict()\n",
    "glove_file=open('glove.42B.300d.txt',encoding=\"utf8\")\n",
    "for line in glove_file:\n",
    "    records=line.split()\n",
    "    word=records[0]\n",
    "    vector_dimensions=asarray(records[1:],dtype='float32')\n",
    "    embeddings_dictionary[word]=vector_dimensions\n",
    "glove_file.close()"
   ]
  },
  {
   "cell_type": "code",
   "execution_count": 21,
   "id": "a4ffbc20-b089-4dd8-bd97-91fb5d54c93a",
   "metadata": {},
   "outputs": [
    {
     "name": "stdout",
     "output_type": "stream",
     "text": [
      "[-0.11969    0.1602    -0.24917    0.12878   -0.19874    0.44684\n",
      "  0.43726   -0.1943     0.013091   0.043389  -0.14589   -0.35991\n",
      " -0.034873  -0.44344   -0.13404   -0.096952   0.20621   -0.1439\n",
      " -0.0033411  0.23557   -0.01134   -0.080737  -0.056891  -0.12781\n",
      "  0.43218    0.0090635  0.035958   0.070213   0.14113    0.11309\n",
      "  0.14787    0.22466   -0.082153   0.097319  -0.21206   -0.25644\n",
      "  0.04528    0.24203   -0.24572    0.16853   -0.2641     0.16425\n",
      "  0.18171   -0.050493  -0.20969   -0.043564  -0.043627  -0.038104\n",
      " -0.0090871 -0.39152    0.083001  -0.12174    0.22382   -0.17588\n",
      " -0.11067   -0.013021  -0.3337    -0.10227   -0.03196    0.28049\n",
      " -0.073983   0.22665    0.082655   0.16785   -0.24602   -0.040421\n",
      " -0.023705  -0.012314   0.16754    0.17192   -0.2625    -0.18317\n",
      " -0.26723    0.0673     0.064148   0.37196    0.049488  -0.18392\n",
      " -0.018638  -0.14565   -0.36355    0.47322    0.067461   0.1984\n",
      "  0.045388  -0.016077   0.20864    0.18339   -0.18341    0.0066028\n",
      "  0.15325    0.24125    0.12986   -0.0051293 -0.018682   0.22995\n",
      "  0.50634   -0.14559   -0.15253    0.11466   -0.10831   -0.059963\n",
      "  0.086245   0.026059   0.051511  -0.11837    0.13188   -0.036852\n",
      "  0.14781   -0.24811    0.079022   0.15       0.11668   -0.1711\n",
      " -0.055809  -0.34097   -0.13966   -0.014578   0.043289  -0.201\n",
      "  0.069384  -0.045758   0.22566   -0.40566   -0.030383  -0.13459\n",
      "  0.031772  -0.024153  -0.2906    -0.051809  -0.21847   -0.25159\n",
      " -0.094286   0.13731   -0.23848    0.0025889 -0.2455     0.23321\n",
      "  0.038385  -0.45567    0.06847    0.14476    0.10382    0.090762\n",
      "  0.2696    -0.098781  -0.34006   -0.046922   0.072477   0.073566\n",
      "  0.31334    0.11514    0.16833    0.1108     0.0022866  0.074586\n",
      "  0.032092  -0.14347   -0.25466    0.22317   -0.10978   -0.24201\n",
      "  0.33852   -0.052326   0.01098    0.0023796  0.094459   0.37816\n",
      "  0.020722   0.073459  -0.060166  -0.065434   0.21354    0.26727\n",
      "  0.22324    0.032404   0.0019641 -0.03462   -0.042585   0.071747\n",
      "  0.12494   -0.1202    -0.13114   -0.087415  -0.077388   0.011516\n",
      "  0.0013175 -0.07055    0.24607   -0.0056581 -0.14063    0.040226\n",
      " -0.26162    0.19947   -0.099834  -0.16748   -0.27873   -0.34644\n",
      " -0.14153   -0.014876   0.035212   0.0089596  0.023693   0.40365\n",
      " -0.42829   -0.16679    0.13675   -0.36421   -0.02693    0.061095\n",
      " -0.096783   0.3595     0.34226    0.15502    0.23777    0.10758\n",
      " -0.13897    0.071619   0.0327    -0.031255   0.17608   -0.019069\n",
      "  0.012348   0.26759    0.57357   -0.18854   -0.14058    0.02928\n",
      "  0.0044915 -0.14315   -0.10357   -0.043943  -0.4278     0.12715\n",
      "  0.23067    0.26667   -0.19591    0.31715    0.2132     0.09395\n",
      "  0.17197    0.32419    0.164     -0.28277   -0.067733   0.076818\n",
      " -0.21156    0.0048457  0.099345  -0.076769   0.067689  -0.16736\n",
      "  0.41827    0.07784    0.37858   -0.01736    0.20519    0.37793\n",
      " -0.018276  -0.18601    0.13168    0.024476  -0.2664    -0.29664\n",
      "  0.11946    0.34602   -0.058778  -0.068049  -0.067339  -0.071196\n",
      " -0.19211   -0.11563    0.15913    0.40352    0.09735   -0.22407\n",
      " -0.33777    0.0165    -0.059003   0.13559   -0.28736    0.084492\n",
      "  0.23031   -0.24484   -0.20284   -0.020147  -0.067043   0.044702\n",
      " -0.0058131 -0.17282   -0.30697   -0.27771    0.34654    0.23245\n",
      "  0.012919   0.12475   -0.081428  -0.090892   0.27827    0.11374  ]\n",
      "(246910, 300)\n",
      "[0. 0. 0. 0. 0. 0. 0. 0. 0. 0. 0. 0. 0. 0. 0. 0. 0. 0. 0. 0. 0. 0. 0. 0.\n",
      " 0. 0. 0. 0. 0. 0. 0. 0. 0. 0. 0. 0. 0. 0. 0. 0. 0. 0. 0. 0. 0. 0. 0. 0.\n",
      " 0. 0. 0. 0. 0. 0. 0. 0. 0. 0. 0. 0. 0. 0. 0. 0. 0. 0. 0. 0. 0. 0. 0. 0.\n",
      " 0. 0. 0. 0. 0. 0. 0. 0. 0. 0. 0. 0. 0. 0. 0. 0. 0. 0. 0. 0. 0. 0. 0. 0.\n",
      " 0. 0. 0. 0. 0. 0. 0. 0. 0. 0. 0. 0. 0. 0. 0. 0. 0. 0. 0. 0. 0. 0. 0. 0.\n",
      " 0. 0. 0. 0. 0. 0. 0. 0. 0. 0. 0. 0. 0. 0. 0. 0. 0. 0. 0. 0. 0. 0. 0. 0.\n",
      " 0. 0. 0. 0. 0. 0. 0. 0. 0. 0. 0. 0. 0. 0. 0. 0. 0. 0. 0. 0. 0. 0. 0. 0.\n",
      " 0. 0. 0. 0. 0. 0. 0. 0. 0. 0. 0. 0. 0. 0. 0. 0. 0. 0. 0. 0. 0. 0. 0. 0.\n",
      " 0. 0. 0. 0. 0. 0. 0. 0. 0. 0. 0. 0. 0. 0. 0. 0. 0. 0. 0. 0. 0. 0. 0. 0.\n",
      " 0. 0. 0. 0. 0. 0. 0. 0. 0. 0. 0. 0. 0. 0. 0. 0. 0. 0. 0. 0. 0. 0. 0. 0.\n",
      " 0. 0. 0. 0. 0. 0. 0. 0. 0. 0. 0. 0. 0. 0. 0. 0. 0. 0. 0. 0. 0. 0. 0. 0.\n",
      " 0. 0. 0. 0. 0. 0. 0. 0. 0. 0. 0. 0. 0. 0. 0. 0. 0. 0. 0. 0. 0. 0. 0. 0.\n",
      " 0. 0. 0. 0. 0. 0. 0. 0. 0. 0. 0. 0.]\n"
     ]
    }
   ],
   "source": [
    "print(embeddings_dictionary[word])\n",
    "embedding_matrix=zeros((vocab_size,300))\n",
    "for word, index in tokenizer.word_index.items():\n",
    "    embedding_vector=embeddings_dictionary.get(word)\n",
    "    if embedding_vector is not None:\n",
    "        embedding_matrix[index]=embedding_vector\n",
    "print(embedding_matrix.shape)\n",
    "print(embedding_matrix[0])"
   ]
  },
  {
   "cell_type": "code",
   "execution_count": 23,
   "id": "d0fc00d6-4cc6-481a-b7b4-3215659429ec",
   "metadata": {},
   "outputs": [],
   "source": [
    "from keras.models import Sequential\n",
    "from keras.layers import Dense, Dropout, GRU, LSTM, SimpleRNN,Embedding,Activation, Flatten\n",
    "from keras import optimizers\n",
    "from keras.preprocessing.sequence import pad_sequences \n",
    "import numpy as np\n",
    "from tensorflow.keras import backend as K"
   ]
  },
  {
   "cell_type": "code",
   "execution_count": 25,
   "id": "c9bcfd53-1a1f-415e-a377-0deb2ea06b02",
   "metadata": {},
   "outputs": [
    {
     "data": {
      "text/html": [
       "<pre style=\"white-space:pre;overflow-x:auto;line-height:normal;font-family:Menlo,'DejaVu Sans Mono',consolas,'Courier New',monospace\"><span style=\"font-weight: bold\">Model: \"sequential\"</span>\n",
       "</pre>\n"
      ],
      "text/plain": [
       "\u001b[1mModel: \"sequential\"\u001b[0m\n"
      ]
     },
     "metadata": {},
     "output_type": "display_data"
    },
    {
     "data": {
      "text/html": [
       "<pre style=\"white-space:pre;overflow-x:auto;line-height:normal;font-family:Menlo,'DejaVu Sans Mono',consolas,'Courier New',monospace\">┏━━━━━━━━━━━━━━━━━━━━━━━━━━━━━━━━━┳━━━━━━━━━━━━━━━━━━━━━━━━┳━━━━━━━━━━━━━━━┓\n",
       "┃<span style=\"font-weight: bold\"> Layer (type)                    </span>┃<span style=\"font-weight: bold\"> Output Shape           </span>┃<span style=\"font-weight: bold\">       Param # </span>┃\n",
       "┡━━━━━━━━━━━━━━━━━━━━━━━━━━━━━━━━━╇━━━━━━━━━━━━━━━━━━━━━━━━╇━━━━━━━━━━━━━━━┩\n",
       "│ embedding (<span style=\"color: #0087ff; text-decoration-color: #0087ff\">Embedding</span>)           │ ?                      │    <span style=\"color: #00af00; text-decoration-color: #00af00\">74,073,000</span> │\n",
       "├─────────────────────────────────┼────────────────────────┼───────────────┤\n",
       "│ lstm (<span style=\"color: #0087ff; text-decoration-color: #0087ff\">LSTM</span>)                     │ ?                      │   <span style=\"color: #00af00; text-decoration-color: #00af00\">0</span> (unbuilt) │\n",
       "├─────────────────────────────────┼────────────────────────┼───────────────┤\n",
       "│ dense (<span style=\"color: #0087ff; text-decoration-color: #0087ff\">Dense</span>)                   │ ?                      │   <span style=\"color: #00af00; text-decoration-color: #00af00\">0</span> (unbuilt) │\n",
       "└─────────────────────────────────┴────────────────────────┴───────────────┘\n",
       "</pre>\n"
      ],
      "text/plain": [
       "┏━━━━━━━━━━━━━━━━━━━━━━━━━━━━━━━━━┳━━━━━━━━━━━━━━━━━━━━━━━━┳━━━━━━━━━━━━━━━┓\n",
       "┃\u001b[1m \u001b[0m\u001b[1mLayer (type)                   \u001b[0m\u001b[1m \u001b[0m┃\u001b[1m \u001b[0m\u001b[1mOutput Shape          \u001b[0m\u001b[1m \u001b[0m┃\u001b[1m \u001b[0m\u001b[1m      Param #\u001b[0m\u001b[1m \u001b[0m┃\n",
       "┡━━━━━━━━━━━━━━━━━━━━━━━━━━━━━━━━━╇━━━━━━━━━━━━━━━━━━━━━━━━╇━━━━━━━━━━━━━━━┩\n",
       "│ embedding (\u001b[38;5;33mEmbedding\u001b[0m)           │ ?                      │    \u001b[38;5;34m74,073,000\u001b[0m │\n",
       "├─────────────────────────────────┼────────────────────────┼───────────────┤\n",
       "│ lstm (\u001b[38;5;33mLSTM\u001b[0m)                     │ ?                      │   \u001b[38;5;34m0\u001b[0m (unbuilt) │\n",
       "├─────────────────────────────────┼────────────────────────┼───────────────┤\n",
       "│ dense (\u001b[38;5;33mDense\u001b[0m)                   │ ?                      │   \u001b[38;5;34m0\u001b[0m (unbuilt) │\n",
       "└─────────────────────────────────┴────────────────────────┴───────────────┘\n"
      ]
     },
     "metadata": {},
     "output_type": "display_data"
    },
    {
     "data": {
      "text/html": [
       "<pre style=\"white-space:pre;overflow-x:auto;line-height:normal;font-family:Menlo,'DejaVu Sans Mono',consolas,'Courier New',monospace\"><span style=\"font-weight: bold\"> Total params: </span><span style=\"color: #00af00; text-decoration-color: #00af00\">74,073,000</span> (282.57 MB)\n",
       "</pre>\n"
      ],
      "text/plain": [
       "\u001b[1m Total params: \u001b[0m\u001b[38;5;34m74,073,000\u001b[0m (282.57 MB)\n"
      ]
     },
     "metadata": {},
     "output_type": "display_data"
    },
    {
     "data": {
      "text/html": [
       "<pre style=\"white-space:pre;overflow-x:auto;line-height:normal;font-family:Menlo,'DejaVu Sans Mono',consolas,'Courier New',monospace\"><span style=\"font-weight: bold\"> Trainable params: </span><span style=\"color: #00af00; text-decoration-color: #00af00\">0</span> (0.00 B)\n",
       "</pre>\n"
      ],
      "text/plain": [
       "\u001b[1m Trainable params: \u001b[0m\u001b[38;5;34m0\u001b[0m (0.00 B)\n"
      ]
     },
     "metadata": {},
     "output_type": "display_data"
    },
    {
     "data": {
      "text/html": [
       "<pre style=\"white-space:pre;overflow-x:auto;line-height:normal;font-family:Menlo,'DejaVu Sans Mono',consolas,'Courier New',monospace\"><span style=\"font-weight: bold\"> Non-trainable params: </span><span style=\"color: #00af00; text-decoration-color: #00af00\">74,073,000</span> (282.57 MB)\n",
       "</pre>\n"
      ],
      "text/plain": [
       "\u001b[1m Non-trainable params: \u001b[0m\u001b[38;5;34m74,073,000\u001b[0m (282.57 MB)\n"
      ]
     },
     "metadata": {},
     "output_type": "display_data"
    },
    {
     "name": "stdout",
     "output_type": "stream",
     "text": [
      "Epoch 1/10\n",
      "\u001b[1m7140/7140\u001b[0m \u001b[32m━━━━━━━━━━━━━━━━━━━━\u001b[0m\u001b[37m\u001b[0m \u001b[1m341s\u001b[0m 47ms/step - acc: 0.8205 - loss: 0.3981 - precision: 0.8315 - recall: 0.8281 - val_acc: 0.9156 - val_loss: 0.2176 - val_precision: 0.9119 - val_recall: 0.9292\n",
      "Epoch 2/10\n",
      "\u001b[1m7140/7140\u001b[0m \u001b[32m━━━━━━━━━━━━━━━━━━━━\u001b[0m\u001b[37m\u001b[0m \u001b[1m331s\u001b[0m 46ms/step - acc: 0.9156 - loss: 0.2193 - precision: 0.9175 - recall: 0.9233 - val_acc: 0.9271 - val_loss: 0.1918 - val_precision: 0.9235 - val_recall: 0.9392\n",
      "Epoch 3/10\n",
      "\u001b[1m7140/7140\u001b[0m \u001b[32m━━━━━━━━━━━━━━━━━━━━\u001b[0m\u001b[37m\u001b[0m \u001b[1m330s\u001b[0m 46ms/step - acc: 0.9255 - loss: 0.1950 - precision: 0.9268 - recall: 0.9326 - val_acc: 0.9319 - val_loss: 0.1790 - val_precision: 0.9348 - val_recall: 0.9359\n",
      "Epoch 4/10\n",
      "\u001b[1m7140/7140\u001b[0m \u001b[32m━━━━━━━━━━━━━━━━━━━━\u001b[0m\u001b[37m\u001b[0m \u001b[1m335s\u001b[0m 47ms/step - acc: 0.9311 - loss: 0.1787 - precision: 0.9329 - recall: 0.9369 - val_acc: 0.9343 - val_loss: 0.1725 - val_precision: 0.9362 - val_recall: 0.9390\n",
      "Epoch 5/10\n",
      "\u001b[1m7140/7140\u001b[0m \u001b[32m━━━━━━━━━━━━━━━━━━━━\u001b[0m\u001b[37m\u001b[0m \u001b[1m738s\u001b[0m 103ms/step - acc: 0.9361 - loss: 0.1666 - precision: 0.9368 - recall: 0.9427 - val_acc: 0.9347 - val_loss: 0.1704 - val_precision: 0.9259 - val_recall: 0.9519\n",
      "Epoch 6/10\n",
      "\u001b[1m7140/7140\u001b[0m \u001b[32m━━━━━━━━━━━━━━━━━━━━\u001b[0m\u001b[37m\u001b[0m \u001b[1m672s\u001b[0m 94ms/step - acc: 0.9397 - loss: 0.1581 - precision: 0.9407 - recall: 0.9455 - val_acc: 0.9349 - val_loss: 0.1724 - val_precision: 0.9235 - val_recall: 0.9552\n",
      "Epoch 7/10\n",
      "\u001b[1m7140/7140\u001b[0m \u001b[32m━━━━━━━━━━━━━━━━━━━━\u001b[0m\u001b[37m\u001b[0m \u001b[1m831s\u001b[0m 116ms/step - acc: 0.9415 - loss: 0.1525 - precision: 0.9422 - recall: 0.9467 - val_acc: 0.9373 - val_loss: 0.1663 - val_precision: 0.9367 - val_recall: 0.9447\n",
      "Epoch 8/10\n",
      "\u001b[1m7140/7140\u001b[0m \u001b[32m━━━━━━━━━━━━━━━━━━━━\u001b[0m\u001b[37m\u001b[0m \u001b[1m894s\u001b[0m 125ms/step - acc: 0.9442 - loss: 0.1458 - precision: 0.9445 - recall: 0.9496 - val_acc: 0.9379 - val_loss: 0.1665 - val_precision: 0.9351 - val_recall: 0.9477\n",
      "Epoch 9/10\n",
      "\u001b[1m7140/7140\u001b[0m \u001b[32m━━━━━━━━━━━━━━━━━━━━\u001b[0m\u001b[37m\u001b[0m \u001b[1m670s\u001b[0m 94ms/step - acc: 0.9453 - loss: 0.1427 - precision: 0.9458 - recall: 0.9510 - val_acc: 0.9384 - val_loss: 0.1657 - val_precision: 0.9408 - val_recall: 0.9421\n",
      "Epoch 10/10\n",
      "\u001b[1m7140/7140\u001b[0m \u001b[32m━━━━━━━━━━━━━━━━━━━━\u001b[0m\u001b[37m\u001b[0m \u001b[1m709s\u001b[0m 99ms/step - acc: 0.9481 - loss: 0.1351 - precision: 0.9487 - recall: 0.9532 - val_acc: 0.9382 - val_loss: 0.1711 - val_precision: 0.9385 - val_recall: 0.9444\n"
     ]
    }
   ],
   "source": [
    "def lstm():\n",
    "    model=Sequential()\n",
    "    model.add(Embedding(vocab_size,300,weights=[embedding_matrix],name=\"embedding\",trainable=False))\n",
    "    model.add(LSTM(128,dropout=0.2,recurrent_dropout=0.2))\n",
    "    model.add(Dense(1,activation='sigmoid'))\n",
    "    model.compile(optimizer='adam',loss='binary_crossentropy',metrics=['acc',tensorflow.keras.metrics.Precision(name='precision'),tensorflow.keras.metrics.Recall(name='recall')])\n",
    "    model.summary()\n",
    "    return model\n",
    "lstmmodel=lstm()\n",
    "lstmmodelhistory=lstmmodel.fit(x_train, y_train, epochs=10, batch_size=32, validation_split=0.2, verbose=1)\n",
    "\n"
   ]
  },
  {
   "cell_type": "code",
   "execution_count": 27,
   "id": "8587770a-4f83-44c4-af7d-9846a46c6c10",
   "metadata": {},
   "outputs": [
    {
     "name": "stdout",
     "output_type": "stream",
     "text": [
      "\u001b[1m2232/2232\u001b[0m \u001b[32m━━━━━━━━━━━━━━━━━━━━\u001b[0m\u001b[37m\u001b[0m \u001b[1m99s\u001b[0m 44ms/step - acc: 0.9388 - loss: 0.1669 - precision: 0.9433 - recall: 0.9424\n",
      "Test Score: 0.17068006098270416\n",
      "Test Accuracy: 0.9372645020484924\n"
     ]
    }
   ],
   "source": [
    "score=lstmmodel.evaluate(x_test,y_test,verbose=1)\n",
    "print(\"Test Score:\",score[0])\n",
    "print(\"Test Accuracy:\",score[1])"
   ]
  },
  {
   "cell_type": "code",
   "execution_count": 216,
   "id": "7e6ca9d0-5c42-4f73-a0d9-968ab2f617b5",
   "metadata": {},
   "outputs": [
    {
     "name": "stdout",
     "output_type": "stream",
     "text": [
      "dict_keys(['acc', 'loss', 'precision', 'recall', 'val_acc', 'val_loss', 'val_precision', 'val_recall'])\n"
     ]
    }
   ],
   "source": [
    "print(lstmmodelhistory.history.keys())"
   ]
  },
  {
   "cell_type": "code",
   "execution_count": 29,
   "id": "f9b82b97-ff59-4d90-8b51-89cd1fc45c54",
   "metadata": {},
   "outputs": [
    {
     "data": {
      "image/png": "[encoded data removed]",
      "text/plain": [
       "<Figure size 640x480 with 1 Axes>"
      ]
     },
     "metadata": {},
     "output_type": "display_data"
    },
    {
     "data": {
      "image/png": "[encoded data removed]",
      "text/plain": [
       "<Figure size 640x480 with 1 Axes>"
      ]
     },
     "metadata": {},
     "output_type": "display_data"
    }
   ],
   "source": [
    "import matplotlib.pyplot as plt\n",
    "plt.plot(lstmmodelhistory.history['acc'])\n",
    "plt.plot(lstmmodelhistory.history['val_acc'])\n",
    "plt.title('model accuracy')\n",
    "plt.ylabel('accuracy')\n",
    "plt.xlabel('epochs')\n",
    "plt.legend(['train','test'],loc='upper left')\n",
    "plt.show()\n",
    "plt.plot(lstmmodelhistory.history['loss'])\n",
    "plt.plot(lstmmodelhistory.history['val_loss'])\n",
    "plt.title('model loss')\n",
    "plt.ylabel('loss')\n",
    "plt.xlabel('epochs')\n",
    "plt.legend(['train','test'],loc='upper left')\n",
    "plt.show()"
   ]
  },
  {
   "cell_type": "code",
   "execution_count": 65,
   "id": "24ada099-5884-4278-9f5b-4d4a35854306",
   "metadata": {},
   "outputs": [
    {
     "name": "stdout",
     "output_type": "stream",
     "text": [
      "\u001b[1m2232/2232\u001b[0m \u001b[32m━━━━━━━━━━━━━━━━━━━━\u001b[0m\u001b[37m\u001b[0m \u001b[1m43s\u001b[0m 19ms/step\n"
     ]
    }
   ],
   "source": [
    "#predictions on test data\n",
    "predictions = lstmmodel.predict(x_test)"
   ]
  },
  {
   "cell_type": "code",
   "execution_count": 66,
   "id": "0551453f-a96e-4190-b703-f14b4c9e71f3",
   "metadata": {},
   "outputs": [
    {
     "name": "stdout",
     "output_type": "stream",
     "text": [
      "(71395, 1)\n",
      "<class 'numpy.ndarray'>\n",
      "[1] \t 1\n",
      "[0] \t 0\n",
      "[0] \t 0\n",
      "[0] \t 0\n",
      "[0] \t 0\n",
      "[0] \t 0\n",
      "[0] \t 0\n",
      "[1] \t 0\n",
      "[1] \t 1\n",
      "[1] \t 1\n",
      "[1] \t 1\n",
      "[0] \t 0\n",
      "[1] \t 1\n",
      "[1] \t 1\n",
      "[0] \t 0\n",
      "[0] \t 0\n",
      "[0] \t 0\n",
      "[1] \t 1\n",
      "[0] \t 0\n",
      "[1] \t 1\n",
      "[1] \t 1\n",
      "[1] \t 1\n",
      "[1] \t 1\n",
      "[0] \t 0\n",
      "[0] \t 0\n",
      "[1] \t 1\n",
      "[1] \t 1\n",
      "[0] \t 0\n",
      "[1] \t 1\n",
      "[0] \t 0\n",
      "[1] \t 1\n",
      "[0] \t 0\n",
      "[0] \t 0\n",
      "[1] \t 1\n",
      "[1] \t 1\n",
      "[0] \t 0\n",
      "[0] \t 0\n",
      "[1] \t 1\n",
      "[1] \t 1\n",
      "[1] \t 1\n",
      "[0] \t 0\n",
      "[1] \t 1\n",
      "[1] \t 1\n",
      "[0] \t 0\n",
      "[0] \t 0\n",
      "[0] \t 1\n",
      "[1] \t 1\n",
      "[0] \t 0\n",
      "[1] \t 1\n",
      "[1] \t 1\n",
      "Total false predictions are: 2\n"
     ]
    }
   ],
   "source": [
    "#Comparision of predicted values and desired values\n",
    "\n",
    "print(predictions.shape)\n",
    "predicted_classes = (predictions > 0.5).astype(int)\n",
    "print(type(predicted_classes))\n",
    "y_test_predict=asarray(y_test[0:],dtype=int)\n",
    "count=0\n",
    "for i in range(0,50,1):\n",
    "    print(predicted_classes[i],\"\\t\",y_test_predict[i])\n",
    "    if(predicted_classes[i] != y_test_predict[i]):\n",
    "        count+=1\n",
    "print(\"Total false predictions are:\",count)"
   ]
  },
  {
   "cell_type": "code",
   "execution_count": 149,
   "id": "336bc7f4-464e-414f-aca4-a923d44629fc",
   "metadata": {},
   "outputs": [
    {
     "name": "stdin",
     "output_type": "stream",
     "text": [
      " d\n"
     ]
    },
    {
     "name": "stdout",
     "output_type": "stream",
     "text": [
      "\u001b[1m1/1\u001b[0m \u001b[32m━━━━━━━━━━━━━━━━━━━━\u001b[0m\u001b[37m\u001b[0m \u001b[1m0s\u001b[0m 31ms/step\n",
      "This is a non Depressive Statement\n"
     ]
    }
   ],
   "source": [
    "#Prediction on new and unseen data\n",
    "comment=input()\n",
    "new_data = [\"I am not having a good time\"]  # Example input\n",
    "new_sequences = tokenizer.texts_to_sequences(new_data)  # Tokenize the input\n",
    "new_padded = pad_sequences(new_sequences, maxlen=max_len,padding='post')  # Pad the sequence\n",
    "\n",
    "# Predict\n",
    "new_predictions = lstmmodel.predict(new_padded)\n",
    "\n",
    "new_predictions=(new_predictions>0.5).astype(int)\n",
    "if(new_predictions[0] == 1):\n",
    "    print(\"This is a Depressive Statement\")\n",
    "else:\n",
    "    print(\"This is a non Depressive Statement\")"
   ]
  },
  {
   "cell_type": "code",
   "execution_count": 133,
   "id": "9f6ad9f2-fa26-4f09-a40a-5dae944be3a3",
   "metadata": {},
   "outputs": [
    {
     "name": "stderr",
     "output_type": "stream",
     "text": [
      "WARNING:absl:You are saving your model as an HDF5 file via `model.save()` or `keras.saving.save_model(model)`. This file format is considered legacy. We recommend using instead the native Keras format, e.g. `model.save('my_model.keras')` or `keras.saving.save_model(model, 'my_model.keras')`. \n"
     ]
    }
   ],
   "source": [
    "lstmmodel.save('lstm_textualdata.keras')\n",
    "lstmmodel.save('lstm_textualdata.h5')\n"
   ]
  },
  {
   "cell_type": "code",
   "execution_count": 29,
   "id": "7a681bd6-2f95-4bd3-9f4f-9d955f60c76d",
   "metadata": {},
   "outputs": [
    {
     "data": {
      "text/html": [
       "<pre style=\"white-space:pre;overflow-x:auto;line-height:normal;font-family:Menlo,'DejaVu Sans Mono',consolas,'Courier New',monospace\"><span style=\"font-weight: bold\">Model: \"sequential_1\"</span>\n",
       "</pre>\n"
      ],
      "text/plain": [
       "\u001b[1mModel: \"sequential_1\"\u001b[0m\n"
      ]
     },
     "metadata": {},
     "output_type": "display_data"
    },
    {
     "data": {
      "text/html": [
       "<pre style=\"white-space:pre;overflow-x:auto;line-height:normal;font-family:Menlo,'DejaVu Sans Mono',consolas,'Courier New',monospace\">┏━━━━━━━━━━━━━━━━━━━━━━━━━━━━━━━━━┳━━━━━━━━━━━━━━━━━━━━━━━━┳━━━━━━━━━━━━━━━┓\n",
       "┃<span style=\"font-weight: bold\"> Layer (type)                    </span>┃<span style=\"font-weight: bold\"> Output Shape           </span>┃<span style=\"font-weight: bold\">       Param # </span>┃\n",
       "┡━━━━━━━━━━━━━━━━━━━━━━━━━━━━━━━━━╇━━━━━━━━━━━━━━━━━━━━━━━━╇━━━━━━━━━━━━━━━┩\n",
       "│ embedding (<span style=\"color: #0087ff; text-decoration-color: #0087ff\">Embedding</span>)           │ ?                      │    <span style=\"color: #00af00; text-decoration-color: #00af00\">73,844,100</span> │\n",
       "├─────────────────────────────────┼────────────────────────┼───────────────┤\n",
       "│ gru (<span style=\"color: #0087ff; text-decoration-color: #0087ff\">GRU</span>)                       │ ?                      │   <span style=\"color: #00af00; text-decoration-color: #00af00\">0</span> (unbuilt) │\n",
       "├─────────────────────────────────┼────────────────────────┼───────────────┤\n",
       "│ dense_1 (<span style=\"color: #0087ff; text-decoration-color: #0087ff\">Dense</span>)                 │ ?                      │   <span style=\"color: #00af00; text-decoration-color: #00af00\">0</span> (unbuilt) │\n",
       "└─────────────────────────────────┴────────────────────────┴───────────────┘\n",
       "</pre>\n"
      ],
      "text/plain": [
       "┏━━━━━━━━━━━━━━━━━━━━━━━━━━━━━━━━━┳━━━━━━━━━━━━━━━━━━━━━━━━┳━━━━━━━━━━━━━━━┓\n",
       "┃\u001b[1m \u001b[0m\u001b[1mLayer (type)                   \u001b[0m\u001b[1m \u001b[0m┃\u001b[1m \u001b[0m\u001b[1mOutput Shape          \u001b[0m\u001b[1m \u001b[0m┃\u001b[1m \u001b[0m\u001b[1m      Param #\u001b[0m\u001b[1m \u001b[0m┃\n",
       "┡━━━━━━━━━━━━━━━━━━━━━━━━━━━━━━━━━╇━━━━━━━━━━━━━━━━━━━━━━━━╇━━━━━━━━━━━━━━━┩\n",
       "│ embedding (\u001b[38;5;33mEmbedding\u001b[0m)           │ ?                      │    \u001b[38;5;34m73,844,100\u001b[0m │\n",
       "├─────────────────────────────────┼────────────────────────┼───────────────┤\n",
       "│ gru (\u001b[38;5;33mGRU\u001b[0m)                       │ ?                      │   \u001b[38;5;34m0\u001b[0m (unbuilt) │\n",
       "├─────────────────────────────────┼────────────────────────┼───────────────┤\n",
       "│ dense_1 (\u001b[38;5;33mDense\u001b[0m)                 │ ?                      │   \u001b[38;5;34m0\u001b[0m (unbuilt) │\n",
       "└─────────────────────────────────┴────────────────────────┴───────────────┘\n"
      ]
     },
     "metadata": {},
     "output_type": "display_data"
    },
    {
     "data": {
      "text/html": [
       "<pre style=\"white-space:pre;overflow-x:auto;line-height:normal;font-family:Menlo,'DejaVu Sans Mono',consolas,'Courier New',monospace\"><span style=\"font-weight: bold\"> Total params: </span><span style=\"color: #00af00; text-decoration-color: #00af00\">73,844,100</span> (281.69 MB)\n",
       "</pre>\n"
      ],
      "text/plain": [
       "\u001b[1m Total params: \u001b[0m\u001b[38;5;34m73,844,100\u001b[0m (281.69 MB)\n"
      ]
     },
     "metadata": {},
     "output_type": "display_data"
    },
    {
     "data": {
      "text/html": [
       "<pre style=\"white-space:pre;overflow-x:auto;line-height:normal;font-family:Menlo,'DejaVu Sans Mono',consolas,'Courier New',monospace\"><span style=\"font-weight: bold\"> Trainable params: </span><span style=\"color: #00af00; text-decoration-color: #00af00\">0</span> (0.00 B)\n",
       "</pre>\n"
      ],
      "text/plain": [
       "\u001b[1m Trainable params: \u001b[0m\u001b[38;5;34m0\u001b[0m (0.00 B)\n"
      ]
     },
     "metadata": {},
     "output_type": "display_data"
    },
    {
     "data": {
      "text/html": [
       "<pre style=\"white-space:pre;overflow-x:auto;line-height:normal;font-family:Menlo,'DejaVu Sans Mono',consolas,'Courier New',monospace\"><span style=\"font-weight: bold\"> Non-trainable params: </span><span style=\"color: #00af00; text-decoration-color: #00af00\">73,844,100</span> (281.69 MB)\n",
       "</pre>\n"
      ],
      "text/plain": [
       "\u001b[1m Non-trainable params: \u001b[0m\u001b[38;5;34m73,844,100\u001b[0m (281.69 MB)\n"
      ]
     },
     "metadata": {},
     "output_type": "display_data"
    },
    {
     "name": "stdout",
     "output_type": "stream",
     "text": [
      "Epoch 1/10\n",
      "\u001b[1m7140/7140\u001b[0m \u001b[32m━━━━━━━━━━━━━━━━━━━━\u001b[0m\u001b[37m\u001b[0m \u001b[1m678s\u001b[0m 94ms/step - acc: 0.6510 - loss: 3967.3469 - precision: 0.5974 - recall: 0.7174 - val_acc: 0.4769 - val_loss: 0.6802 - val_precision: 0.5297 - val_recall: 0.8501\n",
      "Epoch 2/10\n",
      "\u001b[1m7140/7140\u001b[0m \u001b[32m━━━━━━━━━━━━━━━━━━━━\u001b[0m\u001b[37m\u001b[0m \u001b[1m723s\u001b[0m 101ms/step - acc: 0.5293 - loss: 2333.6663 - precision: 0.5230 - recall: 0.6496 - val_acc: 0.4990 - val_loss: 0.6589 - val_precision: 0.5426 - val_recall: 0.8773\n",
      "Epoch 3/10\n",
      "\u001b[1m7140/7140\u001b[0m \u001b[32m━━━━━━━━━━━━━━━━━━━━\u001b[0m\u001b[37m\u001b[0m \u001b[1m600s\u001b[0m 84ms/step - acc: 0.5592 - loss: 13618.3574 - precision: 0.5391 - recall: 0.5929 - val_acc: 0.4907 - val_loss: 0.6760 - val_precision: 0.5339 - val_recall: 0.8585\n",
      "Epoch 4/10\n",
      "\u001b[1m7140/7140\u001b[0m \u001b[32m━━━━━━━━━━━━━━━━━━━━\u001b[0m\u001b[37m\u001b[0m \u001b[1m592s\u001b[0m 83ms/step - acc: 0.5982 - loss: 8397.4385 - precision: 0.5785 - recall: 0.6539 - val_acc: 0.6659 - val_loss: 0.6468 - val_precision: 0.5480 - val_recall: 0.9168\n",
      "Epoch 5/10\n",
      "\u001b[1m7140/7140\u001b[0m \u001b[32m━━━━━━━━━━━━━━━━━━━━\u001b[0m\u001b[37m\u001b[0m \u001b[1m592s\u001b[0m 83ms/step - acc: 0.6397 - loss: 7095.0190 - precision: 0.6270 - recall: 0.6416 - val_acc: 0.6676 - val_loss: 0.6317 - val_precision: 0.5525 - val_recall: 0.9382\n",
      "Epoch 6/10\n",
      "\u001b[1m7140/7140\u001b[0m \u001b[32m━━━━━━━━━━━━━━━━━━━━\u001b[0m\u001b[37m\u001b[0m \u001b[1m589s\u001b[0m 83ms/step - acc: 0.5933 - loss: 4918.5059 - precision: 0.5684 - recall: 0.6946 - val_acc: 0.6091 - val_loss: 0.6931 - val_precision: 0.6146 - val_recall: 0.1213\n",
      "Epoch 7/10\n",
      "\u001b[1m7140/7140\u001b[0m \u001b[32m━━━━━━━━━━━━━━━━━━━━\u001b[0m\u001b[37m\u001b[0m \u001b[1m590s\u001b[0m 83ms/step - acc: 0.5686 - loss: 2725.8335 - precision: 0.5641 - recall: 0.5382 - val_acc: 0.6328 - val_loss: 0.6657 - val_precision: 0.6280 - val_recall: 0.6133\n",
      "Epoch 8/10\n",
      "\u001b[1m7140/7140\u001b[0m \u001b[32m━━━━━━━━━━━━━━━━━━━━\u001b[0m\u001b[37m\u001b[0m \u001b[1m594s\u001b[0m 83ms/step - acc: 0.5976 - loss: 667.5175 - precision: 0.5742 - recall: 0.6522 - val_acc: 0.6372 - val_loss: 0.6696 - val_precision: 0.5308 - val_recall: 0.8659\n",
      "Epoch 9/10\n",
      "\u001b[1m7140/7140\u001b[0m \u001b[32m━━━━━━━━━━━━━━━━━━━━\u001b[0m\u001b[37m\u001b[0m \u001b[1m610s\u001b[0m 85ms/step - acc: 0.5652 - loss: 31.2908 - precision: 0.5398 - recall: 0.6992 - val_acc: 0.6186 - val_loss: 0.6755 - val_precision: 0.6168 - val_recall: 0.5823\n",
      "Epoch 10/10\n",
      "\u001b[1m7140/7140\u001b[0m \u001b[32m━━━━━━━━━━━━━━━━━━━━\u001b[0m\u001b[37m\u001b[0m \u001b[1m658s\u001b[0m 92ms/step - acc: 0.5875 - loss: 615.8101 - precision: 0.5557 - recall: 0.6905 - val_acc: 0.5419 - val_loss: 0.7237 - val_precision: 0.5651 - val_recall: 0.5126\n"
     ]
    }
   ],
   "source": [
    "def gru():\n",
    "    model=Sequential()\n",
    "    model.add(Embedding(vocab_size,300,weights=[embedding_matrix],name=\"embedding\",trainable=False))\n",
    "    model.add(GRU(128,dropout=0.2,recurrent_dropout=0.2,return_sequences=False))\n",
    "    model.add(Dense(2,activation='sigmoid'))\n",
    "    model.compile(optimizer='adam',loss='binary_crossentropy',metrics=['acc',tensorflow.keras.metrics.Precision(name='precision'),tensorflow.keras.metrics.Recall(name='recall')])\n",
    "    model.summary()\n",
    "    return model\n",
    "grumodel=gru()\n",
    "grumodelhistory=grumodel.fit(x_train, y_train, epochs=10, batch_size=32, validation_split=0.2, verbose=1)\n"
   ]
  },
  {
   "cell_type": "code",
   "execution_count": 31,
   "id": "dea99163-1914-438b-9cb6-6d453542ea30",
   "metadata": {},
   "outputs": [
    {
     "name": "stdout",
     "output_type": "stream",
     "text": [
      "\u001b[1m2232/2232\u001b[0m \u001b[32m━━━━━━━━━━━━━━━━━━━━\u001b[0m\u001b[37m\u001b[0m \u001b[1m40s\u001b[0m 18ms/step - acc: 0.6525 - loss: 0.6447\n",
      "Test Score: 0.6451759934425354\n",
      "Test Accuracy: 0.6520764827728271\n"
     ]
    }
   ],
   "source": [
    "score=grumodel.evaluate(x_test,y_test,verbose=1)\n",
    "print(\"Test Score:\",score[0])\n",
    "print(\"Test Accuracy:\",score[1])"
   ]
  },
  {
   "cell_type": "code",
   "execution_count": 31,
   "id": "2f9d8aaa-41ed-401b-a079-b9d4ade3e25c",
   "metadata": {},
   "outputs": [
    {
     "data": {
      "image/png": "[encoded data removed]",
      "text/plain": [
       "<Figure size 640x480 with 1 Axes>"
      ]
     },
     "metadata": {},
     "output_type": "display_data"
    },
    {
     "data": {
      "image/png": "[encoded data removed]",
      "text/plain": [
       "<Figure size 640x480 with 1 Axes>"
      ]
     },
     "metadata": {},
     "output_type": "display_data"
    }
   ],
   "source": [
    "import matplotlib.pyplot as plt\n",
    "plt.plot(grumodelhistory.history['acc'])\n",
    "plt.plot(grumodelhistory.history['val_acc'])\n",
    "plt.title('model accuracy')\n",
    "plt.ylabel('accuracy')\n",
    "plt.xlabel('epochs')\n",
    "plt.legend(['train','test'],loc='upper left')\n",
    "plt.show()\n",
    "plt.plot(grumodelhistory.history['loss'])\n",
    "plt.plot(grumodelhistory.history['val_loss'])\n",
    "plt.title('model loss')\n",
    "plt.ylabel('loss')\n",
    "plt.xlabel('epochs')\n",
    "plt.legend(['train','test'],loc='upper left')\n",
    "plt.show()"
   ]
  },
  {
   "cell_type": "code",
   "execution_count": 35,
   "id": "11ca889f-6e1d-4c82-9f37-c1e1ac80a275",
   "metadata": {},
   "outputs": [
    {
     "name": "stdout",
     "output_type": "stream",
     "text": [
      "\u001b[1m2232/2232\u001b[0m \u001b[32m━━━━━━━━━━━━━━━━━━━━\u001b[0m\u001b[37m\u001b[0m \u001b[1m35s\u001b[0m 15ms/step\n",
      "(71395, 2)\n",
      "<class 'numpy.ndarray'>\n",
      "[1 0] \t [1 0]\n",
      "[1 1] \t [1 0]\n",
      "[0 0] \t [0 1]\n",
      "[1 0] \t [1 0]\n",
      "[1 1] \t [0 1]\n",
      "[1 1] \t [0 1]\n",
      "[1 1] \t [0 1]\n",
      "[1 0] \t [0 1]\n",
      "[1 1] \t [0 1]\n",
      "[1 1] \t [0 1]\n",
      "[1 1] \t [1 0]\n",
      "[1 0] \t [1 0]\n",
      "[1 0] \t [1 0]\n",
      "[1 1] \t [0 1]\n",
      "[1 0] \t [1 0]\n",
      "[1 0] \t [1 0]\n",
      "[1 0] \t [0 1]\n",
      "[1 0] \t [1 0]\n",
      "[1 1] \t [0 1]\n",
      "[1 1] \t [1 0]\n",
      "[1 1] \t [0 1]\n",
      "[0 1] \t [1 0]\n",
      "[1 1] \t [1 0]\n",
      "[1 0] \t [1 0]\n",
      "[1 1] \t [0 1]\n",
      "[1 1] \t [1 0]\n",
      "[1 1] \t [0 1]\n",
      "[1 0] \t [1 0]\n",
      "[1 0] \t [1 0]\n",
      "[1 1] \t [1 0]\n",
      "[1 0] \t [1 0]\n",
      "[1 1] \t [0 1]\n",
      "[1 1] \t [1 0]\n",
      "[1 0] \t [1 0]\n",
      "[0 0] \t [1 0]\n",
      "[1 1] \t [1 0]\n",
      "[1 1] \t [1 0]\n",
      "[1 1] \t [0 1]\n",
      "[1 0] \t [1 0]\n",
      "[1 1] \t [0 1]\n",
      "[1 1] \t [1 0]\n",
      "[1 0] \t [1 0]\n",
      "[1 1] \t [0 1]\n",
      "[1 1] \t [0 1]\n",
      "[1 1] \t [1 0]\n",
      "[1 1] \t [1 0]\n",
      "[1 1] \t [0 1]\n",
      "[1 1] \t [0 1]\n",
      "[0 0] \t [1 0]\n",
      "[0 1] \t [0 1]\n",
      "Total false predictions are: 22\n"
     ]
    }
   ],
   "source": [
    "#predictions on test data\n",
    "predictions = grumodel.predict(x_test)\n",
    "#Comparision of predicted values and desired values\n",
    "\n",
    "print(predictions.shape)\n",
    "predicted_classes = (predictions > 0.5).astype(int)\n",
    "print(type(predicted_classes))\n",
    "y_test_predict=asarray(y_test[0:],dtype=int)\n",
    "count=0\n",
    "for i in range(0,50,1):\n",
    "    print(predicted_classes[i],\"\\t\",y_test_predict[i])\n",
    "    if(predicted_classes[i][0] != y_test_predict[i][0]):\n",
    "        count+=1\n",
    "print(\"Total false predictions are:\",count)"
   ]
  },
  {
   "cell_type": "code",
   "execution_count": 45,
   "id": "7f7e81c8-e0bd-41a5-9b09-613b11602f7c",
   "metadata": {},
   "outputs": [
    {
     "ename": "NameError",
     "evalue": "name 'grumodel' is not defined",
     "output_type": "error",
     "traceback": [
      "\u001b[1;31m---------------------------------------------------------------------------\u001b[0m",
      "\u001b[1;31mNameError\u001b[0m                                 Traceback (most recent call last)",
      "Cell \u001b[1;32mIn[45], line 8\u001b[0m\n\u001b[0;32m      5\u001b[0m new_padded \u001b[38;5;241m=\u001b[39m pad_sequences(new_sequences, maxlen\u001b[38;5;241m=\u001b[39mmax_len,padding\u001b[38;5;241m=\u001b[39m\u001b[38;5;124m'\u001b[39m\u001b[38;5;124mpost\u001b[39m\u001b[38;5;124m'\u001b[39m)  \u001b[38;5;66;03m# Pad the sequence\u001b[39;00m\n\u001b[0;32m      7\u001b[0m \u001b[38;5;66;03m# Predict\u001b[39;00m\n\u001b[1;32m----> 8\u001b[0m new_predictions \u001b[38;5;241m=\u001b[39m grumodel\u001b[38;5;241m.\u001b[39mpredict(new_padded)\n\u001b[0;32m     10\u001b[0m new_predictions\u001b[38;5;241m=\u001b[39m(new_predictions\u001b[38;5;241m>\u001b[39m\u001b[38;5;241m0.5\u001b[39m)\u001b[38;5;241m.\u001b[39mastype(\u001b[38;5;28mint\u001b[39m)\n\u001b[0;32m     11\u001b[0m \u001b[38;5;28;01mif\u001b[39;00m(new_predictions[\u001b[38;5;241m0\u001b[39m][\u001b[38;5;241m0\u001b[39m] \u001b[38;5;241m==\u001b[39m \u001b[38;5;241m1\u001b[39m):\n",
      "\u001b[1;31mNameError\u001b[0m: name 'grumodel' is not defined"
     ]
    }
   ],
   "source": [
    "#Prediction on new and unseen data\n",
    "\n",
    "new_data = [\"I am was happy but now I am sad\"]  # Example input\n",
    "new_sequences = tokenizer.texts_to_sequences(new_data)  # Tokenize the input\n",
    "new_padded = pad_sequences(new_sequences, maxlen=max_len,padding='post')  # Pad the sequence\n",
    "\n",
    "# Predict\n",
    "new_predictions = grumodel.predict(new_padded)\n",
    "\n",
    "new_predictions=(new_predictions>0.5).astype(int)\n",
    "if(new_predictions[0][0] == 1):\n",
    "    print(\"This is a Depressive Statement\")\n",
    "else:\n",
    "    print(\"This is a non Depressive Statement\")"
   ]
  },
  {
   "cell_type": "code",
   "execution_count": 39,
   "id": "87837b54-0ffe-42e1-9fd8-8fda4dc92b87",
   "metadata": {},
   "outputs": [
    {
     "name": "stderr",
     "output_type": "stream",
     "text": [
      "WARNING:absl:You are saving your model as an HDF5 file via `model.save()` or `keras.saving.save_model(model)`. This file format is considered legacy. We recommend using instead the native Keras format, e.g. `model.save('my_model.keras')` or `keras.saving.save_model(model, 'my_model.keras')`. \n"
     ]
    }
   ],
   "source": [
    "grumodel.save('grufordepressiondetection_textualdata.keras')\n",
    "grumodel.save('grufordepressiondetection_textualdata.h5')\n"
   ]
  },
  {
   "cell_type": "code",
   "execution_count": 35,
   "id": "1f21680a-23af-47a6-b324-76472e8d4866",
   "metadata": {},
   "outputs": [
    {
     "data": {
      "text/html": [
       "<pre style=\"white-space:pre;overflow-x:auto;line-height:normal;font-family:Menlo,'DejaVu Sans Mono',consolas,'Courier New',monospace\"><span style=\"font-weight: bold\">Model: \"sequential_3\"</span>\n",
       "</pre>\n"
      ],
      "text/plain": [
       "\u001b[1mModel: \"sequential_3\"\u001b[0m\n"
      ]
     },
     "metadata": {},
     "output_type": "display_data"
    },
    {
     "data": {
      "text/html": [
       "<pre style=\"white-space:pre;overflow-x:auto;line-height:normal;font-family:Menlo,'DejaVu Sans Mono',consolas,'Courier New',monospace\">┏━━━━━━━━━━━━━━━━━━━━━━━━━━━━━━━━━┳━━━━━━━━━━━━━━━━━━━━━━━━┳━━━━━━━━━━━━━━━┓\n",
       "┃<span style=\"font-weight: bold\"> Layer (type)                    </span>┃<span style=\"font-weight: bold\"> Output Shape           </span>┃<span style=\"font-weight: bold\">       Param # </span>┃\n",
       "┡━━━━━━━━━━━━━━━━━━━━━━━━━━━━━━━━━╇━━━━━━━━━━━━━━━━━━━━━━━━╇━━━━━━━━━━━━━━━┩\n",
       "│ embedding (<span style=\"color: #0087ff; text-decoration-color: #0087ff\">Embedding</span>)           │ ?                      │    <span style=\"color: #00af00; text-decoration-color: #00af00\">73,844,100</span> │\n",
       "├─────────────────────────────────┼────────────────────────┼───────────────┤\n",
       "│ simple_rnn_1 (<span style=\"color: #0087ff; text-decoration-color: #0087ff\">SimpleRNN</span>)        │ ?                      │   <span style=\"color: #00af00; text-decoration-color: #00af00\">0</span> (unbuilt) │\n",
       "├─────────────────────────────────┼────────────────────────┼───────────────┤\n",
       "│ dense_3 (<span style=\"color: #0087ff; text-decoration-color: #0087ff\">Dense</span>)                 │ ?                      │   <span style=\"color: #00af00; text-decoration-color: #00af00\">0</span> (unbuilt) │\n",
       "└─────────────────────────────────┴────────────────────────┴───────────────┘\n",
       "</pre>\n"
      ],
      "text/plain": [
       "┏━━━━━━━━━━━━━━━━━━━━━━━━━━━━━━━━━┳━━━━━━━━━━━━━━━━━━━━━━━━┳━━━━━━━━━━━━━━━┓\n",
       "┃\u001b[1m \u001b[0m\u001b[1mLayer (type)                   \u001b[0m\u001b[1m \u001b[0m┃\u001b[1m \u001b[0m\u001b[1mOutput Shape          \u001b[0m\u001b[1m \u001b[0m┃\u001b[1m \u001b[0m\u001b[1m      Param #\u001b[0m\u001b[1m \u001b[0m┃\n",
       "┡━━━━━━━━━━━━━━━━━━━━━━━━━━━━━━━━━╇━━━━━━━━━━━━━━━━━━━━━━━━╇━━━━━━━━━━━━━━━┩\n",
       "│ embedding (\u001b[38;5;33mEmbedding\u001b[0m)           │ ?                      │    \u001b[38;5;34m73,844,100\u001b[0m │\n",
       "├─────────────────────────────────┼────────────────────────┼───────────────┤\n",
       "│ simple_rnn_1 (\u001b[38;5;33mSimpleRNN\u001b[0m)        │ ?                      │   \u001b[38;5;34m0\u001b[0m (unbuilt) │\n",
       "├─────────────────────────────────┼────────────────────────┼───────────────┤\n",
       "│ dense_3 (\u001b[38;5;33mDense\u001b[0m)                 │ ?                      │   \u001b[38;5;34m0\u001b[0m (unbuilt) │\n",
       "└─────────────────────────────────┴────────────────────────┴───────────────┘\n"
      ]
     },
     "metadata": {},
     "output_type": "display_data"
    },
    {
     "data": {
      "text/html": [
       "<pre style=\"white-space:pre;overflow-x:auto;line-height:normal;font-family:Menlo,'DejaVu Sans Mono',consolas,'Courier New',monospace\"><span style=\"font-weight: bold\"> Total params: </span><span style=\"color: #00af00; text-decoration-color: #00af00\">73,844,100</span> (281.69 MB)\n",
       "</pre>\n"
      ],
      "text/plain": [
       "\u001b[1m Total params: \u001b[0m\u001b[38;5;34m73,844,100\u001b[0m (281.69 MB)\n"
      ]
     },
     "metadata": {},
     "output_type": "display_data"
    },
    {
     "data": {
      "text/html": [
       "<pre style=\"white-space:pre;overflow-x:auto;line-height:normal;font-family:Menlo,'DejaVu Sans Mono',consolas,'Courier New',monospace\"><span style=\"font-weight: bold\"> Trainable params: </span><span style=\"color: #00af00; text-decoration-color: #00af00\">0</span> (0.00 B)\n",
       "</pre>\n"
      ],
      "text/plain": [
       "\u001b[1m Trainable params: \u001b[0m\u001b[38;5;34m0\u001b[0m (0.00 B)\n"
      ]
     },
     "metadata": {},
     "output_type": "display_data"
    },
    {
     "data": {
      "text/html": [
       "<pre style=\"white-space:pre;overflow-x:auto;line-height:normal;font-family:Menlo,'DejaVu Sans Mono',consolas,'Courier New',monospace\"><span style=\"font-weight: bold\"> Non-trainable params: </span><span style=\"color: #00af00; text-decoration-color: #00af00\">73,844,100</span> (281.69 MB)\n",
       "</pre>\n"
      ],
      "text/plain": [
       "\u001b[1m Non-trainable params: \u001b[0m\u001b[38;5;34m73,844,100\u001b[0m (281.69 MB)\n"
      ]
     },
     "metadata": {},
     "output_type": "display_data"
    },
    {
     "name": "stdout",
     "output_type": "stream",
     "text": [
      "Epoch 1/5\n",
      "\u001b[1m7140/7140\u001b[0m \u001b[32m━━━━━━━━━━━━━━━━━━━━\u001b[0m\u001b[37m\u001b[0m \u001b[1m207s\u001b[0m 28ms/step - acc: 0.6688 - loss: 0.6018 - precision: 0.6665 - recall: 0.6680 - val_acc: 0.6858 - val_loss: 0.5827 - val_precision: 0.6856 - val_recall: 0.6865\n",
      "Epoch 2/5\n",
      "\u001b[1m7140/7140\u001b[0m \u001b[32m━━━━━━━━━━━━━━━━━━━━\u001b[0m\u001b[37m\u001b[0m \u001b[1m185s\u001b[0m 26ms/step - acc: 0.6862 - loss: 0.5829 - precision: 0.6857 - recall: 0.6867 - val_acc: 0.6848 - val_loss: 0.5862 - val_precision: 0.6846 - val_recall: 0.6857\n",
      "Epoch 3/5\n",
      "\u001b[1m7140/7140\u001b[0m \u001b[32m━━━━━━━━━━━━━━━━━━━━\u001b[0m\u001b[37m\u001b[0m \u001b[1m186s\u001b[0m 26ms/step - acc: 0.6837 - loss: 0.5845 - precision: 0.6834 - recall: 0.6842 - val_acc: 0.6897 - val_loss: 0.5785 - val_precision: 0.6895 - val_recall: 0.6898\n",
      "Epoch 4/5\n",
      "\u001b[1m7140/7140\u001b[0m \u001b[32m━━━━━━━━━━━━━━━━━━━━\u001b[0m\u001b[37m\u001b[0m \u001b[1m187s\u001b[0m 26ms/step - acc: 0.6840 - loss: 0.5677 - precision: 0.6840 - recall: 0.6828 - val_acc: 0.7390 - val_loss: 0.5437 - val_precision: 0.7381 - val_recall: 0.7409\n",
      "Epoch 5/5\n",
      "\u001b[1m7140/7140\u001b[0m \u001b[32m━━━━━━━━━━━━━━━━━━━━\u001b[0m\u001b[37m\u001b[0m \u001b[1m189s\u001b[0m 26ms/step - acc: 0.6843 - loss: 0.5715 - precision: 0.6844 - recall: 0.6833 - val_acc: 0.6833 - val_loss: 0.5887 - val_precision: 0.6833 - val_recall: 0.6830\n"
     ]
    }
   ],
   "source": [
    "def simplernn():\n",
    "    model=Sequential()\n",
    "    model.add(Embedding(vocab_size,300,weights=[embedding_matrix],name=\"embedding\",trainable=False))\n",
    "    model.add(SimpleRNN(128,dropout=0.2,recurrent_dropout=0.2,return_sequences=False))\n",
    "    model.add(Dense(2,activation='sigmoid'))\n",
    "    model.compile(optimizer='adam',loss='binary_crossentropy',metrics=['acc',tensorflow.keras.metrics.Precision(name='precision'),tensorflow.keras.metrics.Recall(name='recall')])\n",
    "    model.summary()\n",
    "    return model\n",
    "simplernnmodel=simplernn()\n",
    "simplernnmodelhistory=simplernnmodel.fit(x_train, y_train, epochs=5, batch_size=32, validation_split=0.2, verbose=1)\n"
   ]
  },
  {
   "cell_type": "code",
   "execution_count": 39,
   "id": "7cab24e6-1b77-4d68-a912-2286b39b343f",
   "metadata": {},
   "outputs": [
    {
     "name": "stdout",
     "output_type": "stream",
     "text": [
      "\u001b[1m2232/2232\u001b[0m \u001b[32m━━━━━━━━━━━━━━━━━━━━\u001b[0m\u001b[37m\u001b[0m \u001b[1m21s\u001b[0m 9ms/step - acc: 0.6863 - loss: 0.5864 - precision: 0.6862 - recall: 0.6864\n",
      "Test Score: 0.5881991386413574\n",
      "Test Accuracy: 0.6837033629417419\n"
     ]
    }
   ],
   "source": [
    "score=simplernnmodel.evaluate(x_test,y_test,verbose=1)\n",
    "print(\"Test Score:\",score[0])\n",
    "print(\"Test Accuracy:\",score[1])"
   ]
  },
  {
   "cell_type": "code",
   "execution_count": 41,
   "id": "b3b8edfe-e911-4ce1-985e-5cabe7651fe0",
   "metadata": {},
   "outputs": [
    {
     "data": {
      "image/png": "[encoded data removed]",
      "text/plain": [
       "<Figure size 640x480 with 1 Axes>"
      ]
     },
     "metadata": {},
     "output_type": "display_data"
    },
    {
     "data": {
      "image/png": "[encoded data removed]",
      "text/plain": [
       "<Figure size 640x480 with 1 Axes>"
      ]
     },
     "metadata": {},
     "output_type": "display_data"
    }
   ],
   "source": [
    "import matplotlib.pyplot as plt\n",
    "plt.plot(simplernnmodelhistory.history['acc'])\n",
    "plt.plot(simplernnmodelhistory.history['val_acc'])\n",
    "plt.title('model accuracy')\n",
    "plt.ylabel('accuracy')\n",
    "plt.xlabel('epochs')\n",
    "plt.legend(['train','test'],loc='upper left')\n",
    "plt.show()\n",
    "plt.plot(simplernnmodelhistory.history['loss'])\n",
    "plt.plot(simplernnmodelhistory.history['val_loss'])\n",
    "plt.title('model loss')\n",
    "plt.ylabel('loss')\n",
    "plt.xlabel('epochs')\n",
    "plt.legend(['train','test'],loc='upper left')\n",
    "plt.show()"
   ]
  },
  {
   "cell_type": "code",
   "execution_count": 43,
   "id": "b1361a74-2b2a-4bad-aedd-01aef8244f09",
   "metadata": {},
   "outputs": [
    {
     "name": "stderr",
     "output_type": "stream",
     "text": [
      "WARNING:absl:You are saving your model as an HDF5 file via `model.save()` or `keras.saving.save_model(model)`. This file format is considered legacy. We recommend using instead the native Keras format, e.g. `model.save('my_model.keras')` or `keras.saving.save_model(model, 'my_model.keras')`. \n"
     ]
    }
   ],
   "source": [
    "simplernnmodel.save('simplernnfordepressiondetection_textualdata.keras')\n",
    "simplernnmodel.save('simplernnfordepressiondetection_textualdata.h5')\n"
   ]
  },
  {
   "cell_type": "code",
   "execution_count": null,
   "id": "ce48f566-f639-45ca-a905-6058b58efe5d",
   "metadata": {},
   "outputs": [],
   "source": []
  }
 ],
 "metadata": {
  "kernelspec": {
   "display_name": "Python 3 (ipykernel)",
   "language": "python",
   "name": "python3"
  },
  "language_info": {
   "codemirror_mode": {
    "name": "ipython",
    "version": 3
   },
   "file_extension": ".py",
   "mimetype": "text/x-python",
   "name": "python",
   "nbconvert_exporter": "python",
   "pygments_lexer": "ipython3",
   "version": "3.12.4"
  }
 },
 "nbformat": 4,
 "nbformat_minor": 5
}
